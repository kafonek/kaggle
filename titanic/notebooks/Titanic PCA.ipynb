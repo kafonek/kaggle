{
 "cells": [
  {
   "cell_type": "code",
   "execution_count": 118,
   "metadata": {
    "collapsed": false
   },
   "outputs": [
    {
     "data": {
      "text/plain": [
       "((891, 12), (418, 11))"
      ]
     },
     "execution_count": 118,
     "metadata": {},
     "output_type": "execute_result"
    }
   ],
   "source": [
    "import pandas\n",
    "import sklearn\n",
    "import numpy as np\n",
    "train = pandas.read_csv('../input/train.csv')\n",
    "test = pandas.read_csv('../input/test.csv')\n",
    "train.shape, test.shape"
   ]
  },
  {
   "cell_type": "code",
   "execution_count": 119,
   "metadata": {
    "collapsed": false
   },
   "outputs": [
    {
     "name": "stdout",
     "output_type": "stream",
     "text": [
      "<class 'pandas.core.frame.DataFrame'>\n",
      "RangeIndex: 891 entries, 0 to 890\n",
      "Data columns (total 12 columns):\n",
      "PassengerId    891 non-null int64\n",
      "Survived       891 non-null int64\n",
      "Pclass         891 non-null int64\n",
      "Name           891 non-null object\n",
      "Sex            891 non-null object\n",
      "Age            714 non-null float64\n",
      "SibSp          891 non-null int64\n",
      "Parch          891 non-null int64\n",
      "Ticket         891 non-null object\n",
      "Fare           891 non-null float64\n",
      "Cabin          204 non-null object\n",
      "Embarked       889 non-null object\n",
      "dtypes: float64(2), int64(5), object(5)\n",
      "memory usage: 83.6+ KB\n"
     ]
    }
   ],
   "source": [
    "train.info()"
   ]
  },
  {
   "cell_type": "code",
   "execution_count": 120,
   "metadata": {
    "collapsed": false
   },
   "outputs": [],
   "source": [
    "train['Embarked'] = train.Embarked.astype('category')\n",
    "train['embarked_code'] = train.Embarked.cat.codes"
   ]
  },
  {
   "cell_type": "code",
   "execution_count": 121,
   "metadata": {
    "collapsed": true
   },
   "outputs": [],
   "source": [
    "train['Sex'] = train.Sex.astype('category')\n",
    "train['sex_code'] = train.Sex.cat.codes"
   ]
  },
  {
   "cell_type": "code",
   "execution_count": 122,
   "metadata": {
    "collapsed": false
   },
   "outputs": [
    {
     "data": {
      "text/html": [
       "<div>\n",
       "<table border=\"1\" class=\"dataframe\">\n",
       "  <thead>\n",
       "    <tr style=\"text-align: right;\">\n",
       "      <th></th>\n",
       "      <th>PassengerId</th>\n",
       "      <th>Survived</th>\n",
       "      <th>Pclass</th>\n",
       "      <th>Age</th>\n",
       "      <th>SibSp</th>\n",
       "      <th>Parch</th>\n",
       "      <th>Fare</th>\n",
       "      <th>embarked_code</th>\n",
       "      <th>sex_code</th>\n",
       "    </tr>\n",
       "  </thead>\n",
       "  <tbody>\n",
       "    <tr>\n",
       "      <th>0</th>\n",
       "      <td>1</td>\n",
       "      <td>0</td>\n",
       "      <td>3</td>\n",
       "      <td>22.0</td>\n",
       "      <td>1</td>\n",
       "      <td>0</td>\n",
       "      <td>7.2500</td>\n",
       "      <td>2</td>\n",
       "      <td>1</td>\n",
       "    </tr>\n",
       "    <tr>\n",
       "      <th>1</th>\n",
       "      <td>2</td>\n",
       "      <td>1</td>\n",
       "      <td>1</td>\n",
       "      <td>38.0</td>\n",
       "      <td>1</td>\n",
       "      <td>0</td>\n",
       "      <td>71.2833</td>\n",
       "      <td>0</td>\n",
       "      <td>0</td>\n",
       "    </tr>\n",
       "    <tr>\n",
       "      <th>2</th>\n",
       "      <td>3</td>\n",
       "      <td>1</td>\n",
       "      <td>3</td>\n",
       "      <td>26.0</td>\n",
       "      <td>0</td>\n",
       "      <td>0</td>\n",
       "      <td>7.9250</td>\n",
       "      <td>2</td>\n",
       "      <td>0</td>\n",
       "    </tr>\n",
       "    <tr>\n",
       "      <th>3</th>\n",
       "      <td>4</td>\n",
       "      <td>1</td>\n",
       "      <td>1</td>\n",
       "      <td>35.0</td>\n",
       "      <td>1</td>\n",
       "      <td>0</td>\n",
       "      <td>53.1000</td>\n",
       "      <td>2</td>\n",
       "      <td>0</td>\n",
       "    </tr>\n",
       "    <tr>\n",
       "      <th>4</th>\n",
       "      <td>5</td>\n",
       "      <td>0</td>\n",
       "      <td>3</td>\n",
       "      <td>35.0</td>\n",
       "      <td>0</td>\n",
       "      <td>0</td>\n",
       "      <td>8.0500</td>\n",
       "      <td>2</td>\n",
       "      <td>1</td>\n",
       "    </tr>\n",
       "  </tbody>\n",
       "</table>\n",
       "</div>"
      ],
      "text/plain": [
       "   PassengerId  Survived  Pclass   Age  SibSp  Parch     Fare  embarked_code  \\\n",
       "0            1         0       3  22.0      1      0   7.2500              2   \n",
       "1            2         1       1  38.0      1      0  71.2833              0   \n",
       "2            3         1       3  26.0      0      0   7.9250              2   \n",
       "3            4         1       1  35.0      1      0  53.1000              2   \n",
       "4            5         0       3  35.0      0      0   8.0500              2   \n",
       "\n",
       "   sex_code  \n",
       "0         1  \n",
       "1         0  \n",
       "2         0  \n",
       "3         0  \n",
       "4         1  "
      ]
     },
     "execution_count": 122,
     "metadata": {},
     "output_type": "execute_result"
    }
   ],
   "source": [
    "features = train.select_dtypes(include=['number'])\n",
    "features.head()"
   ]
  },
  {
   "cell_type": "code",
   "execution_count": 123,
   "metadata": {
    "collapsed": false
   },
   "outputs": [],
   "source": [
    "features = features.drop('PassengerId', 1)"
   ]
  },
  {
   "cell_type": "code",
   "execution_count": 124,
   "metadata": {
    "collapsed": false
   },
   "outputs": [
    {
     "name": "stdout",
     "output_type": "stream",
     "text": [
      "<class 'pandas.core.frame.DataFrame'>\n",
      "RangeIndex: 891 entries, 0 to 890\n",
      "Data columns (total 8 columns):\n",
      "Survived         891 non-null int64\n",
      "Pclass           891 non-null int64\n",
      "Age              714 non-null float64\n",
      "SibSp            891 non-null int64\n",
      "Parch            891 non-null int64\n",
      "Fare             891 non-null float64\n",
      "embarked_code    891 non-null int8\n",
      "sex_code         891 non-null int8\n",
      "dtypes: float64(2), int64(4), int8(2)\n",
      "memory usage: 43.6 KB\n"
     ]
    }
   ],
   "source": [
    "features.info() # we have nulls in the age.. one option is to drop them"
   ]
  },
  {
   "cell_type": "code",
   "execution_count": 125,
   "metadata": {
    "collapsed": false
   },
   "outputs": [
    {
     "name": "stdout",
     "output_type": "stream",
     "text": [
      "<class 'pandas.core.frame.DataFrame'>\n",
      "Int64Index: 714 entries, 0 to 890\n",
      "Data columns (total 8 columns):\n",
      "Survived         714 non-null int64\n",
      "Pclass           714 non-null int64\n",
      "Age              714 non-null float64\n",
      "SibSp            714 non-null int64\n",
      "Parch            714 non-null int64\n",
      "Fare             714 non-null float64\n",
      "embarked_code    714 non-null int8\n",
      "sex_code         714 non-null int8\n",
      "dtypes: float64(2), int64(4), int8(2)\n",
      "memory usage: 40.4 KB\n"
     ]
    }
   ],
   "source": [
    "features = features.dropna()\n",
    "features.info()"
   ]
  },
  {
   "cell_type": "code",
   "execution_count": 131,
   "metadata": {
    "collapsed": false
   },
   "outputs": [
    {
     "data": {
      "text/plain": [
       "array([[-27.66048714,   6.92663543,  -0.11217524, ...,   0.60067395,\n",
       "         -0.39441363,   0.14374891],\n",
       "       [ 36.82682095,  -7.26586577,   0.19407955, ...,   0.61168271,\n",
       "          0.29992013,  -0.458254  ],\n",
       "       [-26.8725542 ,   2.93225702,   0.45981059, ...,  -0.18973612,\n",
       "         -0.24084608,  -0.80527713],\n",
       "       ..., \n",
       "       [ -4.98957935,  10.5198213 ,   0.93796604, ...,   0.05057834,\n",
       "          1.56229547,  -0.41635451],\n",
       "       [ -4.78326948,   3.52051558,   1.20204543, ...,   0.09729529,\n",
       "          0.63093967,   0.62568907],\n",
       "       [-26.87393431,  -3.07208112,   0.5618049 , ...,  -0.08522515,\n",
       "         -0.83429357,   0.1829026 ]])"
      ]
     },
     "execution_count": 131,
     "metadata": {},
     "output_type": "execute_result"
    }
   ],
   "source": [
    "from sklearn.decomposition import PCA\n",
    "y = features.Survived\n",
    "X = features.drop('Survived', 1)\n",
    "\n",
    "pca = PCA()\n",
    "pca.fit_transform(X, y)"
   ]
  },
  {
   "cell_type": "code",
   "execution_count": 132,
   "metadata": {
    "collapsed": false
   },
   "outputs": [
    {
     "data": {
      "text/plain": [
       "array([  2.79891512e+03,   2.08817899e+02,   9.67723174e-01,\n",
       "         5.78328742e-01,   4.87756236e-01,   3.97348695e-01,\n",
       "         1.97495925e-01])"
      ]
     },
     "execution_count": 132,
     "metadata": {},
     "output_type": "execute_result"
    }
   ],
   "source": [
    "pca.explained_variance_"
   ]
  },
  {
   "cell_type": "code",
   "execution_count": 133,
   "metadata": {
    "collapsed": false
   },
   "outputs": [
    {
     "data": {
      "text/plain": [
       "array([[ -8.81486441e-03,   2.84888109e-02,   2.38579646e-03,\n",
       "          3.28030612e-03,   9.99536435e-01,  -4.28229261e-03,\n",
       "         -1.67639002e-03],\n",
       "       [  1.81931278e-02,  -9.99121561e-01,   2.09315732e-02,\n",
       "          1.25423485e-02,   2.85435837e-02,   8.41153887e-04,\n",
       "         -3.77248728e-03],\n",
       "       [ -1.16870700e-01,  -2.59184758e-02,  -7.44234059e-01,\n",
       "         -6.25818563e-01,   2.85321519e-03,  -1.87504234e-01,\n",
       "          7.05002427e-02],\n",
       "       [  2.92807198e-01,   7.73817271e-04,  -1.80017882e-01,\n",
       "         -1.03130621e-01,   7.50440641e-03,   9.24493895e-01,\n",
       "          1.28357726e-01],\n",
       "       [ -1.21740198e-01,   1.39458155e-03,   6.40753421e-01,\n",
       "         -7.39555477e-01,   2.98805653e-04,   5.92408954e-02,\n",
       "          1.55436664e-01],\n",
       "       [ -9.22816662e-01,  -1.55850979e-02,  -4.05259938e-02,\n",
       "          1.04650959e-01,  -6.86692925e-03,   3.21121491e-01,\n",
       "         -1.80017127e-01],\n",
       "       [ -1.83807574e-01,  -5.22377921e-03,  -3.25284833e-02,\n",
       "          1.99130618e-01,  -6.91234010e-04,  -5.92086128e-02,\n",
       "          9.60192817e-01]])"
      ]
     },
     "execution_count": 133,
     "metadata": {},
     "output_type": "execute_result"
    }
   ],
   "source": [
    "pca.components_"
   ]
  },
  {
   "cell_type": "code",
   "execution_count": 135,
   "metadata": {
    "collapsed": false
   },
   "outputs": [
    {
     "data": {
      "text/html": [
       "<div>\n",
       "<table border=\"1\" class=\"dataframe\">\n",
       "  <thead>\n",
       "    <tr style=\"text-align: right;\">\n",
       "      <th></th>\n",
       "      <th>Pclass</th>\n",
       "      <th>Age</th>\n",
       "      <th>SibSp</th>\n",
       "      <th>Parch</th>\n",
       "      <th>Fare</th>\n",
       "      <th>embarked_code</th>\n",
       "      <th>sex_code</th>\n",
       "      <th>weight</th>\n",
       "    </tr>\n",
       "  </thead>\n",
       "  <tbody>\n",
       "    <tr>\n",
       "      <th>0</th>\n",
       "      <td>-0.008815</td>\n",
       "      <td>0.028489</td>\n",
       "      <td>0.002386</td>\n",
       "      <td>0.003280</td>\n",
       "      <td>0.999536</td>\n",
       "      <td>-0.004282</td>\n",
       "      <td>-0.001676</td>\n",
       "      <td>2798.915118</td>\n",
       "    </tr>\n",
       "    <tr>\n",
       "      <th>1</th>\n",
       "      <td>0.018193</td>\n",
       "      <td>-0.999122</td>\n",
       "      <td>0.020932</td>\n",
       "      <td>0.012542</td>\n",
       "      <td>0.028544</td>\n",
       "      <td>0.000841</td>\n",
       "      <td>-0.003772</td>\n",
       "      <td>208.817899</td>\n",
       "    </tr>\n",
       "    <tr>\n",
       "      <th>2</th>\n",
       "      <td>-0.116871</td>\n",
       "      <td>-0.025918</td>\n",
       "      <td>-0.744234</td>\n",
       "      <td>-0.625819</td>\n",
       "      <td>0.002853</td>\n",
       "      <td>-0.187504</td>\n",
       "      <td>0.070500</td>\n",
       "      <td>0.967723</td>\n",
       "    </tr>\n",
       "    <tr>\n",
       "      <th>3</th>\n",
       "      <td>0.292807</td>\n",
       "      <td>0.000774</td>\n",
       "      <td>-0.180018</td>\n",
       "      <td>-0.103131</td>\n",
       "      <td>0.007504</td>\n",
       "      <td>0.924494</td>\n",
       "      <td>0.128358</td>\n",
       "      <td>0.578329</td>\n",
       "    </tr>\n",
       "    <tr>\n",
       "      <th>4</th>\n",
       "      <td>-0.121740</td>\n",
       "      <td>0.001395</td>\n",
       "      <td>0.640753</td>\n",
       "      <td>-0.739555</td>\n",
       "      <td>0.000299</td>\n",
       "      <td>0.059241</td>\n",
       "      <td>0.155437</td>\n",
       "      <td>0.487756</td>\n",
       "    </tr>\n",
       "    <tr>\n",
       "      <th>5</th>\n",
       "      <td>-0.922817</td>\n",
       "      <td>-0.015585</td>\n",
       "      <td>-0.040526</td>\n",
       "      <td>0.104651</td>\n",
       "      <td>-0.006867</td>\n",
       "      <td>0.321121</td>\n",
       "      <td>-0.180017</td>\n",
       "      <td>0.397349</td>\n",
       "    </tr>\n",
       "    <tr>\n",
       "      <th>6</th>\n",
       "      <td>-0.183808</td>\n",
       "      <td>-0.005224</td>\n",
       "      <td>-0.032528</td>\n",
       "      <td>0.199131</td>\n",
       "      <td>-0.000691</td>\n",
       "      <td>-0.059209</td>\n",
       "      <td>0.960193</td>\n",
       "      <td>0.197496</td>\n",
       "    </tr>\n",
       "  </tbody>\n",
       "</table>\n",
       "</div>"
      ],
      "text/plain": [
       "     Pclass       Age     SibSp     Parch      Fare  embarked_code  sex_code  \\\n",
       "0 -0.008815  0.028489  0.002386  0.003280  0.999536      -0.004282 -0.001676   \n",
       "1  0.018193 -0.999122  0.020932  0.012542  0.028544       0.000841 -0.003772   \n",
       "2 -0.116871 -0.025918 -0.744234 -0.625819  0.002853      -0.187504  0.070500   \n",
       "3  0.292807  0.000774 -0.180018 -0.103131  0.007504       0.924494  0.128358   \n",
       "4 -0.121740  0.001395  0.640753 -0.739555  0.000299       0.059241  0.155437   \n",
       "5 -0.922817 -0.015585 -0.040526  0.104651 -0.006867       0.321121 -0.180017   \n",
       "6 -0.183808 -0.005224 -0.032528  0.199131 -0.000691      -0.059209  0.960193   \n",
       "\n",
       "        weight  \n",
       "0  2798.915118  \n",
       "1   208.817899  \n",
       "2     0.967723  \n",
       "3     0.578329  \n",
       "4     0.487756  \n",
       "5     0.397349  \n",
       "6     0.197496  "
      ]
     },
     "execution_count": 135,
     "metadata": {},
     "output_type": "execute_result"
    }
   ],
   "source": [
    "df = pandas.DataFrame(pca.components_, columns=X.columns)\n",
    "df['weight'] = pca.explained_variance_\n",
    "df"
   ]
  }
 ],
 "metadata": {
  "kernelspec": {
   "display_name": "Python 3",
   "language": "python",
   "name": "python3"
  },
  "language_info": {
   "codemirror_mode": {
    "name": "ipython",
    "version": 3
   },
   "file_extension": ".py",
   "mimetype": "text/x-python",
   "name": "python",
   "nbconvert_exporter": "python",
   "pygments_lexer": "ipython3",
   "version": "3.5.1"
  }
 },
 "nbformat": 4,
 "nbformat_minor": 0
}
